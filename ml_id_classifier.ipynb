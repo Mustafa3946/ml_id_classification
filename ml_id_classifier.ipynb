{
 "cells": [
  {
   "cell_type": "markdown",
   "id": "3b291e7f-d068-4597-85fd-8d96dfef06d2",
   "metadata": {},
   "source": [
    "### Data Preprocessing"
   ]
  },
  {
   "cell_type": "code",
   "execution_count": 10,
   "id": "5f1c8f9e-6951-4641-8be6-70815d372e41",
   "metadata": {},
   "outputs": [
    {
     "name": "stdout",
     "output_type": "stream",
     "text": [
      "<botocore.client.S3 object at 0x7f52e6aa7730>\n"
     ]
    }
   ],
   "source": [
    "import boto3\n",
    "\n",
    "# Define dataset path\n",
    "s3_bucket = \"id-classifier-images\"\n",
    "s3_key = \"images.zip\"\n",
    "local_zip_path = \"/tmp/images.zip\"\n",
    "dataset_dir = \"/tmp/dataset\"\n",
    "\n",
    "# Download and extract dataset from S3\n",
    "s3 = boto3.client(\"s3\")\n",
    "print(s3)\n",
    "s3.download_file(s3_bucket, s3_key, local_zip_path)\n",
    "\n"
   ]
  },
  {
   "cell_type": "code",
   "execution_count": null,
   "id": "4d04adca-e0e2-4306-8b5c-da7619978912",
   "metadata": {},
   "outputs": [],
   "source": []
  }
 ],
 "metadata": {
  "kernelspec": {
   "display_name": "conda_python3",
   "language": "python",
   "name": "conda_python3"
  },
  "language_info": {
   "codemirror_mode": {
    "name": "ipython",
    "version": 3
   },
   "file_extension": ".py",
   "mimetype": "text/x-python",
   "name": "python",
   "nbconvert_exporter": "python",
   "pygments_lexer": "ipython3",
   "version": "3.10.16"
  }
 },
 "nbformat": 4,
 "nbformat_minor": 5
}
