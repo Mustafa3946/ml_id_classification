{
 "cells": [
  {
   "cell_type": "markdown",
   "id": "3b291e7f-d068-4597-85fd-8d96dfef06d2",
   "metadata": {},
   "source": [
    "### Data Preprocessing"
   ]
  },
  {
   "cell_type": "code",
   "execution_count": 11,
   "id": "5f1c8f9e-6951-4641-8be6-70815d372e41",
   "metadata": {},
   "outputs": [
    {
     "name": "stdout",
     "output_type": "stream",
     "text": [
      "<botocore.client.S3 object at 0x7f52cc1269b0>\n"
     ]
    }
   ],
   "source": [
    "import boto3\n",
    "import zipfile\n",
    "\n",
    "# Define dataset path\n",
    "s3_bucket = \"id-classifier-images\"\n",
    "s3_key = \"images.zip\"\n",
    "local_zip_path = \"/tmp/images.zip\"\n",
    "dataset_dir = \"/tmp/dataset\"\n",
    "\n",
    "# Download and extract dataset from S3\n",
    "s3 = boto3.client(\"s3\")\n",
    "print(s3)\n",
    "# s3.download_file(s3_bucket, s3_key, local_zip_path)\n",
    "\n",
    "# with zipfile.ZipFile(local_zip_path, \"r\") as zip_ref:\n",
    "#     zip_ref.extractall(dataset_dir)"
   ]
  },
  {
   "cell_type": "markdown",
   "id": "e81062a5-552e-44b1-b364-26c86801f6b4",
   "metadata": {},
   "source": [
    "### Checking extracted dataset"
   ]
  },
  {
   "cell_type": "markdown",
   "id": "0dd312ba-d674-4d07-9e70-7396b24eeff3",
   "metadata": {},
   "source": [
    "<!-- import os\n",
    "\n",
    "print(\"Checking /tmp/ contents:\")\n",
    "print(os.listdir(\"/tmp/\"))  # List files/folders in /tmp\n",
    "\n",
    "if os.path.exists(dataset_dir):\n",
    "    print(f\"Dataset directory exists: {dataset_dir}\")\n",
    "    print(\"Extracted files:\")\n",
    "    print(os.listdir(dataset_dir))  # List extracted files\n",
    "else:\n",
    "    print(\"Dataset directory NOT found. Extraction may have failed.\") -->"
   ]
  },
  {
   "cell_type": "markdown",
   "id": "6f75bdaf-2d88-4ae6-a31d-42401aa67459",
   "metadata": {},
   "source": [
    "### Define Image Transformations"
   ]
  },
  {
   "cell_type": "code",
   "execution_count": 17,
   "id": "e1ae034c-f9aa-4fa9-928f-060341b19289",
   "metadata": {},
   "outputs": [],
   "source": [
    "# !pip install torchvision"
   ]
  },
  {
   "cell_type": "code",
   "execution_count": 21,
   "id": "756249e4-9ac6-43f5-a5d7-3d485b46c0e7",
   "metadata": {},
   "outputs": [],
   "source": [
    "import torch\n",
    "from torchvision import transforms\n",
    "\n",
    "transform = transforms.Compose([\n",
    "    transforms.Resize((224, 224)), \n",
    "    transforms.ToTensor()\n",
    "])\n"
   ]
  },
  {
   "cell_type": "markdown",
   "id": "32fe5ae3-a1db-4173-8ef6-09ae35491edc",
   "metadata": {},
   "source": [
    "### Custom Dataset Class"
   ]
  },
  {
   "cell_type": "code",
   "execution_count": 22,
   "id": "29560372-5f7d-4d23-891a-ffa59a470b2e",
   "metadata": {},
   "outputs": [],
   "source": [
    "import os\n",
    "from PIL import Image\n",
    "from torch.utils.data import DataLoader, Dataset\n",
    "import shutil\n",
    "\n",
    "\n",
    "class IdentityDataset(Dataset):\n",
    "    def __init__(self, root_dir, transform=None):\n",
    "        self.root_dir = root_dir\n",
    "        self.transform = transform\n",
    "        self.image_paths = []\n",
    "        self.labels = []\n",
    "        self.classes = sorted(os.listdir(root_dir))\n",
    "\n",
    "        for class_idx, class_name in enumerate(self.classes):\n",
    "            class_dir = os.path.join(root_dir, class_name)\n",
    "            for img_name in os.listdir(class_dir):\n",
    "                self.image_paths.append(os.path.join(class_dir, img_name))\n",
    "                self.labels.append(class_idx)\n",
    "\n",
    "    def __len__(self):\n",
    "        return len(self.image_paths)\n",
    "\n",
    "    def __getitem__(self, idx):\n",
    "        img_path = self.image_paths[idx]\n",
    "        image = Image.open(img_path).convert(\"RGB\")\n",
    "        label = self.labels[idx]\n",
    "        if self.transform:\n",
    "            image = self.transform(image)\n",
    "        return image, label\n",
    "\n",
    "dataset = IdentityDataset(dataset_dir, transform=transform)"
   ]
  },
  {
   "cell_type": "markdown",
   "id": "8f49bca5-eae3-4021-86e7-a8245572220e",
   "metadata": {},
   "source": [
    "### Model Training\n",
    "- Use a simple CNN (Convolutional Neural Network).\n",
    "- Train using SageMaker Training Jobs."
   ]
  },
  {
   "cell_type": "code",
   "execution_count": 23,
   "id": "c854f764-c1ef-4a59-802c-9bf6ea71d638",
   "metadata": {},
   "outputs": [],
   "source": [
    "import torch.nn as nn\n",
    "import torch.optim as optim\n",
    "\n",
    "class IdentityModel(nn.Module):\n",
    "    def __init__(self, num_classes=10):\n",
    "        super(IdentityModel, self).__init__()\n",
    "        self.conv = nn.Sequential(\n",
    "            nn.Conv2d(3, 32, kernel_size=3, stride=1, padding=1),\n",
    "            nn.ReLU(),\n",
    "            nn.MaxPool2d(kernel_size=2, stride=2)\n",
    "        )\n",
    "        self.fc = nn.Linear(32 * 112 * 112, num_classes)\n",
    "\n",
    "    def forward(self, x):\n",
    "        x = self.conv(x)\n",
    "        x = x.view(x.size(0), -1)\n",
    "        x = self.fc(x)\n",
    "        return x\n",
    "\n",
    "# Model training setup\n",
    "device = torch.device(\"cuda\" if torch.cuda.is_available() else \"cpu\")\n",
    "model = IdentityModel(num_classes=10).to(device)\n",
    "criterion = nn.CrossEntropyLoss()\n",
    "optimizer = optim.Adam(model.parameters(), lr=0.001)\n"
   ]
  },
  {
   "cell_type": "code",
   "execution_count": null,
   "id": "4cf2a381-dfb1-4915-a288-28ba30c7c34d",
   "metadata": {},
   "outputs": [],
   "source": []
  }
 ],
 "metadata": {
  "kernelspec": {
   "display_name": "conda_python3",
   "language": "python",
   "name": "conda_python3"
  },
  "language_info": {
   "codemirror_mode": {
    "name": "ipython",
    "version": 3
   },
   "file_extension": ".py",
   "mimetype": "text/x-python",
   "name": "python",
   "nbconvert_exporter": "python",
   "pygments_lexer": "ipython3",
   "version": "3.10.16"
  }
 },
 "nbformat": 4,
 "nbformat_minor": 5
}
