{
 "cells": [
  {
   "cell_type": "markdown",
   "id": "3b291e7f-d068-4597-85fd-8d96dfef06d2",
   "metadata": {},
   "source": [
    "### Data Preprocessing"
   ]
  },
  {
   "cell_type": "code",
   "execution_count": 11,
   "id": "5f1c8f9e-6951-4641-8be6-70815d372e41",
   "metadata": {},
   "outputs": [
    {
     "name": "stdout",
     "output_type": "stream",
     "text": [
      "<botocore.client.S3 object at 0x7f52cc1269b0>\n"
     ]
    }
   ],
   "source": [
    "import boto3\n",
    "import zipfile\n",
    "\n",
    "# Define dataset path\n",
    "s3_bucket = \"id-classifier-images\"\n",
    "s3_key = \"images.zip\"\n",
    "local_zip_path = \"/tmp/images.zip\"\n",
    "dataset_dir = \"/tmp/dataset\"\n",
    "\n",
    "# Download and extract dataset from S3\n",
    "s3 = boto3.client(\"s3\")\n",
    "print(s3)\n",
    "s3.download_file(s3_bucket, s3_key, local_zip_path)\n",
    "\n",
    "with zipfile.ZipFile(local_zip_path, \"r\") as zip_ref:\n",
    "    zip_ref.extractall(dataset_dir)"
   ]
  },
  {
   "cell_type": "markdown",
   "id": "e81062a5-552e-44b1-b364-26c86801f6b4",
   "metadata": {},
   "source": [
    "### Checking extracted dataset"
   ]
  },
  {
   "cell_type": "markdown",
   "id": "0dd312ba-d674-4d07-9e70-7396b24eeff3",
   "metadata": {},
   "source": [
    "import os\n",
    "\n",
    "print(\"Checking /tmp/ contents:\")\n",
    "print(os.listdir(\"/tmp/\"))  # List files/folders in /tmp\n",
    "\n",
    "if os.path.exists(dataset_dir):\n",
    "    print(f\"Dataset directory exists: {dataset_dir}\")\n",
    "    print(\"Extracted files:\")\n",
    "    print(os.listdir(dataset_dir))  # List extracted files\n",
    "else:\n",
    "    print(\"Dataset directory NOT found. Extraction may have failed.\")"
   ]
  },
  {
   "cell_type": "markdown",
   "id": "6f75bdaf-2d88-4ae6-a31d-42401aa67459",
   "metadata": {},
   "source": [
    "### Define Image Transformations"
   ]
  },
  {
   "cell_type": "code",
   "execution_count": 17,
   "id": "e1ae034c-f9aa-4fa9-928f-060341b19289",
   "metadata": {},
   "outputs": [],
   "source": [
    "# !pip install torchvision"
   ]
  },
  {
   "cell_type": "code",
   "execution_count": 16,
   "id": "756249e4-9ac6-43f5-a5d7-3d485b46c0e7",
   "metadata": {},
   "outputs": [],
   "source": [
    "from torchvision import transforms\n",
    "\n",
    "transform = transforms.Compose([\n",
    "    transforms.Resize((224, 224)), \n",
    "    transforms.ToTensor()\n",
    "])\n"
   ]
  },
  {
   "cell_type": "markdown",
   "id": "32fe5ae3-a1db-4173-8ef6-09ae35491edc",
   "metadata": {},
   "source": [
    "### Custom Dataset Class"
   ]
  },
  {
   "cell_type": "code",
   "execution_count": 19,
   "id": "29560372-5f7d-4d23-891a-ffa59a470b2e",
   "metadata": {},
   "outputs": [
    {
     "ename": "NameError",
     "evalue": "name 'Dataset' is not defined",
     "output_type": "error",
     "traceback": [
      "\u001b[0;31m---------------------------------------------------------------------------\u001b[0m",
      "\u001b[0;31mNameError\u001b[0m                                 Traceback (most recent call last)",
      "Cell \u001b[0;32mIn[19], line 5\u001b[0m\n\u001b[1;32m      1\u001b[0m \u001b[38;5;28;01mimport\u001b[39;00m\u001b[38;5;250m \u001b[39m\u001b[38;5;21;01mos\u001b[39;00m\n\u001b[1;32m      2\u001b[0m \u001b[38;5;28;01mfrom\u001b[39;00m\u001b[38;5;250m \u001b[39m\u001b[38;5;21;01mPIL\u001b[39;00m\u001b[38;5;250m \u001b[39m\u001b[38;5;28;01mimport\u001b[39;00m Image\n\u001b[0;32m----> 5\u001b[0m \u001b[38;5;28;01mclass\u001b[39;00m\u001b[38;5;250m \u001b[39m\u001b[38;5;21;01mIdentityDataset\u001b[39;00m(\u001b[43mDataset\u001b[49m):\n\u001b[1;32m      6\u001b[0m     \u001b[38;5;28;01mdef\u001b[39;00m\u001b[38;5;250m \u001b[39m\u001b[38;5;21m__init__\u001b[39m(\u001b[38;5;28mself\u001b[39m, root_dir, transform\u001b[38;5;241m=\u001b[39m\u001b[38;5;28;01mNone\u001b[39;00m):\n\u001b[1;32m      7\u001b[0m         \u001b[38;5;28mself\u001b[39m\u001b[38;5;241m.\u001b[39mroot_dir \u001b[38;5;241m=\u001b[39m root_dir\n",
      "\u001b[0;31mNameError\u001b[0m: name 'Dataset' is not defined"
     ]
    }
   ],
   "source": [
    "import os\n",
    "from PIL import Image\n",
    "from torch.utils.data import DataLoader, Dataset\n",
    "\n",
    "class IdentityDataset(Dataset):\n",
    "    def __init__(self, root_dir, transform=None):\n",
    "        self.root_dir = root_dir\n",
    "        self.transform = transform\n",
    "        self.image_paths = []\n",
    "        self.labels = []\n",
    "        self.classes = sorted(os.listdir(root_dir))\n",
    "\n",
    "        for class_idx, class_name in enumerate(self.classes):\n",
    "            class_dir = os.path.join(root_dir, class_name)\n",
    "            for img_name in os.listdir(class_dir):\n",
    "                self.image_paths.append(os.path.join(class_dir, img_name))\n",
    "                self.labels.append(class_idx)\n",
    "\n",
    "    def __len__(self):\n",
    "        return len(self.image_paths)\n",
    "\n",
    "    def __getitem__(self, idx):\n",
    "        img_path = self.image_paths[idx]\n",
    "        image = Image.open(img_path).convert(\"RGB\")\n",
    "        label = self.labels[idx]\n",
    "        if self.transform:\n",
    "            image = self.transform(image)\n",
    "        return image, label\n",
    "\n",
    "dataset = IdentityDataset(dataset_dir, transform=transform)"
   ]
  },
  {
   "cell_type": "code",
   "execution_count": null,
   "id": "8e50d748-6e32-4de1-a0c9-666af7dfaef4",
   "metadata": {},
   "outputs": [],
   "source": []
  }
 ],
 "metadata": {
  "kernelspec": {
   "display_name": "conda_python3",
   "language": "python",
   "name": "conda_python3"
  },
  "language_info": {
   "codemirror_mode": {
    "name": "ipython",
    "version": 3
   },
   "file_extension": ".py",
   "mimetype": "text/x-python",
   "name": "python",
   "nbconvert_exporter": "python",
   "pygments_lexer": "ipython3",
   "version": "3.10.16"
  }
 },
 "nbformat": 4,
 "nbformat_minor": 5
}
