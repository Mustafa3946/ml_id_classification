{
 "cells": [
  {
   "cell_type": "code",
   "execution_count": 25,
   "id": "3ecfabd6-117b-4c49-8db1-f8d6698192ef",
   "metadata": {},
   "outputs": [],
   "source": [
    "import boto3\n",
    "import zipfile\n",
    "import os\n",
    "import json\n",
    "import sagemaker\n",
    "import numpy as np\n",
    "import tensorflow as tf\n",
    "from tensorflow.keras.preprocessing.image import ImageDataGenerator\n",
    "from sklearn.metrics import classification_report, accuracy_score"
   ]
  },
  {
   "cell_type": "markdown",
   "id": "59872c40-fa3f-4a57-a034-c924ba4c6165",
   "metadata": {},
   "source": [
    "### Data Preprocessing"
   ]
  },
  {
   "cell_type": "code",
   "execution_count": 2,
   "id": "6e4a29db-f63e-468e-b376-69b14393f88f",
   "metadata": {},
   "outputs": [
    {
     "data": {
      "text/html": [
       "<pre style=\"white-space:pre;overflow-x:auto;line-height:normal;font-family:Menlo,'DejaVu Sans Mono',consolas,'Courier New',monospace\"><span style=\"color: #7fbfbf; text-decoration-color: #7fbfbf\">[03/29/25 00:10:59] </span><span style=\"color: #0069ff; text-decoration-color: #0069ff; font-weight: bold\">INFO    </span> Found credentials from IAM Role:                                   <a href=\"file:///home/ec2-user/anaconda3/envs/pytorch_p310/lib/python3.10/site-packages/botocore/credentials.py\" target=\"_blank\"><span style=\"color: #7f7f7f; text-decoration-color: #7f7f7f\">credentials.py</span></a><span style=\"color: #7f7f7f; text-decoration-color: #7f7f7f\">:</span><a href=\"file:///home/ec2-user/anaconda3/envs/pytorch_p310/lib/python3.10/site-packages/botocore/credentials.py#1132\" target=\"_blank\"><span style=\"color: #7f7f7f; text-decoration-color: #7f7f7f\">1132</span></a>\n",
       "<span style=\"color: #7fbfbf; text-decoration-color: #7fbfbf\">                    </span>         BaseNotebookInstanceEc2InstanceRole                                <span style=\"color: #7f7f7f; text-decoration-color: #7f7f7f\">                   </span>\n",
       "</pre>\n"
      ],
      "text/plain": [
       "\u001b[2;36m[03/29/25 00:10:59]\u001b[0m\u001b[2;36m \u001b[0m\u001b[1;38;2;0;105;255mINFO    \u001b[0m Found credentials from IAM Role:                                   \u001b]8;id=7828;file:///home/ec2-user/anaconda3/envs/pytorch_p310/lib/python3.10/site-packages/botocore/credentials.py\u001b\\\u001b[2mcredentials.py\u001b[0m\u001b]8;;\u001b\\\u001b[2m:\u001b[0m\u001b]8;id=56779;file:///home/ec2-user/anaconda3/envs/pytorch_p310/lib/python3.10/site-packages/botocore/credentials.py#1132\u001b\\\u001b[2m1132\u001b[0m\u001b]8;;\u001b\\\n",
       "\u001b[2;36m                    \u001b[0m         BaseNotebookInstanceEc2InstanceRole                                \u001b[2m                   \u001b[0m\n"
      ]
     },
     "metadata": {},
     "output_type": "display_data"
    }
   ],
   "source": [
    "# Define dataset path\n",
    "s3_bucket = \"id-classifier-images\"\n",
    "s3_key = \"images.zip\"\n",
    "local_zip_path = \"/tmp/images.zip\"\n",
    "dataset_dir = \"/tmp/dataset\"\n",
    "\n",
    "# Download and extract dataset from S3\n",
    "s3 = boto3.client(\"s3\")\n",
    "# s3.download_file(s3_bucket, s3_key, local_zip_path)\n",
    "\n",
    "# with zipfile.ZipFile(local_zip_path, \"r\") as zip_ref:\n",
    "#     zip_ref.extractall(dataset_dir)"
   ]
  },
  {
   "cell_type": "markdown",
   "id": "be1cca34-209d-437f-862e-a6e7d165762f",
   "metadata": {},
   "source": [
    "### Initialize SageMaker session and role"
   ]
  },
  {
   "cell_type": "code",
   "execution_count": 3,
   "id": "61e40626-95f0-412a-96a2-f8fdd948f6ca",
   "metadata": {},
   "outputs": [],
   "source": [
    "sagemaker_session = sagemaker.Session()\n",
    "role = sagemaker.get_execution_role()\n"
   ]
  },
  {
   "cell_type": "markdown",
   "id": "7f8fbb95-bd2e-42f0-8a8b-f6f01f41c98a",
   "metadata": {},
   "source": [
    "### Define image parameters for model input"
   ]
  },
  {
   "cell_type": "code",
   "execution_count": 4,
   "id": "ff64b16a-49a4-4c25-970b-4a7cffd501ce",
   "metadata": {},
   "outputs": [],
   "source": [
    "IMG_HEIGHT = 150  # Height of input images\n",
    "IMG_WIDTH = 150   # Width of input images\n",
    "BATCH_SIZE = 32   # Number of images per batch"
   ]
  },
  {
   "cell_type": "markdown",
   "id": "20215a55-8a47-4346-a919-0dd06d578aca",
   "metadata": {},
   "source": [
    "### Create ImageDataGenerator for data augmentation and preprocessing"
   ]
  },
  {
   "cell_type": "code",
   "execution_count": 5,
   "id": "2376e6a6-3fb4-4449-966a-06d68979047a",
   "metadata": {},
   "outputs": [],
   "source": [
    "data_gen = ImageDataGenerator(rescale=1./255, validation_split=0.2)  # Normalize pixel values"
   ]
  },
  {
   "cell_type": "markdown",
   "id": "cf81d53f-c0d8-46d1-bfe4-73137c451a49",
   "metadata": {},
   "source": [
    "### Load training dataset"
   ]
  },
  {
   "cell_type": "code",
   "execution_count": 6,
   "id": "03ebdadf-0aad-4bf5-85ad-53776c869505",
   "metadata": {},
   "outputs": [
    {
     "name": "stdout",
     "output_type": "stream",
     "text": [
      "Found 800 images belonging to 10 classes.\n"
     ]
    }
   ],
   "source": [
    "unzip_dir = \"/tmp/dataset/images\"\n",
    "train_generator = data_gen.flow_from_directory(\n",
    "    unzip_dir,\n",
    "    target_size=(IMG_HEIGHT, IMG_WIDTH),\n",
    "    batch_size=BATCH_SIZE,\n",
    "    class_mode='categorical',\n",
    "    subset='training'  # Use 80% of data for training\n",
    ")"
   ]
  },
  {
   "cell_type": "markdown",
   "id": "df4d88f4-59df-4fcb-9b2d-2575bc8d238d",
   "metadata": {},
   "source": [
    "### Load validation dataset"
   ]
  },
  {
   "cell_type": "code",
   "execution_count": 7,
   "id": "4bfdb94a-ec84-4efa-8c3c-72130d1374d0",
   "metadata": {},
   "outputs": [
    {
     "name": "stdout",
     "output_type": "stream",
     "text": [
      "Found 200 images belonging to 10 classes.\n"
     ]
    }
   ],
   "source": [
    "validation_generator = data_gen.flow_from_directory(\n",
    "    unzip_dir,\n",
    "    target_size=(IMG_HEIGHT, IMG_WIDTH),\n",
    "    batch_size=BATCH_SIZE,\n",
    "    class_mode='categorical',\n",
    "    subset='validation'  # Use 20% of data for validation\n",
    ")"
   ]
  },
  {
   "cell_type": "markdown",
   "id": "a42e2b86-6072-49a2-b532-8b206561d3f7",
   "metadata": {},
   "source": [
    "### Define a simple Convolutional Neural Network (CNN) model"
   ]
  },
  {
   "cell_type": "code",
   "execution_count": 8,
   "id": "43f389c4-6f7a-42b9-ac04-6cb8155fd67d",
   "metadata": {},
   "outputs": [],
   "source": [
    "def create_model():\n",
    "    model = tf.keras.Sequential([\n",
    "        tf.keras.layers.Conv2D(32, (3,3), activation='relu', input_shape=(IMG_HEIGHT, IMG_WIDTH, 3)),\n",
    "        tf.keras.layers.MaxPooling2D(2,2),\n",
    "        tf.keras.layers.Conv2D(64, (3,3), activation='relu'),\n",
    "        tf.keras.layers.MaxPooling2D(2,2),\n",
    "        tf.keras.layers.Flatten(),\n",
    "        tf.keras.layers.Dense(128, activation='relu'),\n",
    "        tf.keras.layers.Dense(len(train_generator.class_indices), activation='softmax')  # Output layer with softmax activation\n",
    "    ])\n",
    "    # Compile the model with categorical crossentropy loss and Adam optimizer\n",
    "    model.compile(optimizer='adam', loss='categorical_crossentropy', metrics=['accuracy'])\n",
    "    return model"
   ]
  },
  {
   "cell_type": "markdown",
   "id": "0b455c0b-e000-42d4-b968-9041c820e746",
   "metadata": {},
   "source": [
    "### Create and train the model"
   ]
  },
  {
   "cell_type": "code",
   "execution_count": null,
   "id": "f138834d-e442-4c67-b7eb-eb01be0c3371",
   "metadata": {},
   "outputs": [
    {
     "name": "stdout",
     "output_type": "stream",
     "text": [
      "Starting model training...\n",
      "Epoch 1/5\n"
     ]
    }
   ],
   "source": [
    "model = create_model()\n",
    "print(\"Starting model training...\")\n",
    "history = model.fit(\n",
    "    train_generator,\n",
    "    validation_data=validation_generator,\n",
    "    epochs=5  # Train for 5 epochs\n",
    ")"
   ]
  },
  {
   "cell_type": "markdown",
   "id": "ca1ce950-2cdc-4f67-971c-052ba734ab7d",
   "metadata": {},
   "source": [
    "### Evaluate the model performance"
   ]
  },
  {
   "cell_type": "code",
   "execution_count": 27,
   "id": "1af80457-0adc-4c11-b793-43e43b5244c7",
   "metadata": {},
   "outputs": [
    {
     "name": "stdout",
     "output_type": "stream",
     "text": [
      "\u001b[1m1/1\u001b[0m \u001b[32m━━━━━━━━━━━━━━━━━━━━\u001b[0m\u001b[37m\u001b[0m \u001b[1m0s\u001b[0m 335ms/step\n",
      "Classification Report:\n",
      "                      precision    recall  f1-score   support\n",
      "\n",
      "              alb_id       0.00      0.00      0.00         1\n",
      "        aze_passport       1.00      0.20      0.33         5\n",
      "              esp_id       0.33      1.00      0.50         1\n",
      "              est_id       0.00      0.00      0.00         3\n",
      "              fin_id       1.00      0.50      0.67         2\n",
      "        grc_passport       0.20      0.25      0.22         4\n",
      "        lva_passport       0.50      0.25      0.33         4\n",
      "rus_internalpassport       0.67      0.40      0.50         5\n",
      "        srb_passport       0.00      0.00      0.00         5\n",
      "              svk_id       1.00      0.50      0.67         2\n",
      "\n",
      "            accuracy                           0.25        32\n",
      "           macro avg       0.47      0.31      0.32        32\n",
      "        weighted avg       0.48      0.25      0.30        32\n",
      "\n",
      "Accuracy: 0.25\n",
      "True label: rus_internalpassport, Predicted label: rus_internalpassport\n",
      "True label: est_id, Predicted label: esp_id\n",
      "True label: srb_passport, Predicted label: est_id\n",
      "True label: fin_id, Predicted label: alb_id\n",
      "True label: rus_internalpassport, Predicted label: grc_passport\n"
     ]
    }
   ],
   "source": [
    "# List of class names corresponding to the dataset classes\n",
    "class_names = ['alb_id', 'aze_passport', 'esp_id', 'est_id', 'fin_id', \n",
    "               'grc_passport', 'lva_passport', 'rus_internalpassport', \n",
    "               'srb_passport', 'svk_id']\n",
    "\n",
    "with open('class_names.json', 'w') as f:\n",
    "    json.dump(class_names, f)\n",
    "\n",
    "# ### Evaluate the model performance\n",
    "\n",
    "# In[28]:\n",
    "\n",
    "\n",
    "val_images, val_labels = next(iter(validation_generator))\n",
    "\n",
    "# Generate predictions\n",
    "predictions = model.predict(val_images)\n",
    "predicted_classes = np.argmax(predictions, axis=1)\n",
    "true_classes = np.argmax(val_labels, axis=1)\n",
    "\n",
    "# Print classification performance\n",
    "print(\"Classification Report:\")\n",
    "print(classification_report(true_classes, predicted_classes, target_names=class_names, zero_division=1))\n",
    "print(\"Accuracy:\", accuracy_score(true_classes, predicted_classes))\n",
    "\n",
    "# Map predicted class indices to class names for a better output\n",
    "predicted_class_names = [class_names[i] for i in predicted_classes]\n",
    "true_class_names = [class_names[i] for i in true_classes]\n",
    "\n",
    "# Print the first few predictions for validation\n",
    "for i in range(5):\n",
    "    print(f\"True label: {true_class_names[i]}, Predicted label: {predicted_class_names[i]}\")\n"
   ]
  },
  {
   "cell_type": "markdown",
   "id": "bc49a79f-ff00-4513-b4ac-348e5cd3afda",
   "metadata": {},
   "source": [
    "### Save the trained model"
   ]
  },
  {
   "cell_type": "code",
   "execution_count": 24,
   "id": "0d0334ee-4c3d-46db-83c0-69fec57b949b",
   "metadata": {},
   "outputs": [
    {
     "data": {
      "text/html": [
       "<pre style=\"white-space:pre;overflow-x:auto;line-height:normal;font-family:Menlo,'DejaVu Sans Mono',consolas,'Courier New',monospace\"><span style=\"color: #7fbfbf; text-decoration-color: #7fbfbf\">[03/29/25 01:10:11] </span><span style=\"color: #d7af00; text-decoration-color: #d7af00; font-weight: bold\">WARNING </span> The `save_format` argument is deprecated in Keras <span style=\"color: #008080; text-decoration-color: #008080; font-weight: bold\">3</span>. We recommend     <a href=\"file:///home/ec2-user/anaconda3/envs/pytorch_p310/lib/python3.10/site-packages/keras/src/saving/saving_api.py\" target=\"_blank\"><span style=\"color: #7f7f7f; text-decoration-color: #7f7f7f\">saving_api.py</span></a><span style=\"color: #7f7f7f; text-decoration-color: #7f7f7f\">:</span><a href=\"file:///home/ec2-user/anaconda3/envs/pytorch_p310/lib/python3.10/site-packages/keras/src/saving/saving_api.py#62\" target=\"_blank\"><span style=\"color: #7f7f7f; text-decoration-color: #7f7f7f\">62</span></a>\n",
       "<span style=\"color: #7fbfbf; text-decoration-color: #7fbfbf\">                    </span>         removing this argument as it can be inferred from the file path.      <span style=\"color: #7f7f7f; text-decoration-color: #7f7f7f\">                </span>\n",
       "<span style=\"color: #7fbfbf; text-decoration-color: #7fbfbf\">                    </span>         Received: <span style=\"color: #d7af00; text-decoration-color: #d7af00\">save_format</span>=<span style=\"color: #e100e1; text-decoration-color: #e100e1\">keras</span>                                           <span style=\"color: #7f7f7f; text-decoration-color: #7f7f7f\">                </span>\n",
       "</pre>\n"
      ],
      "text/plain": [
       "\u001b[2;36m[03/29/25 01:10:11]\u001b[0m\u001b[2;36m \u001b[0m\u001b[1;38;2;215;175;0mWARNING \u001b[0m The `save_format` argument is deprecated in Keras \u001b[1;36m3\u001b[0m. We recommend     \u001b]8;id=713051;file:///home/ec2-user/anaconda3/envs/pytorch_p310/lib/python3.10/site-packages/keras/src/saving/saving_api.py\u001b\\\u001b[2msaving_api.py\u001b[0m\u001b]8;;\u001b\\\u001b[2m:\u001b[0m\u001b]8;id=416705;file:///home/ec2-user/anaconda3/envs/pytorch_p310/lib/python3.10/site-packages/keras/src/saving/saving_api.py#62\u001b\\\u001b[2m62\u001b[0m\u001b]8;;\u001b\\\n",
       "\u001b[2;36m                    \u001b[0m         removing this argument as it can be inferred from the file path.      \u001b[2m                \u001b[0m\n",
       "\u001b[2;36m                    \u001b[0m         Received: \u001b[38;2;215;175;0msave_format\u001b[0m=\u001b[38;2;225;0;225mkeras\u001b[0m                                           \u001b[2m                \u001b[0m\n"
      ]
     },
     "metadata": {},
     "output_type": "display_data"
    },
    {
     "data": {
      "text/html": [
       "<pre style=\"white-space:pre;overflow-x:auto;line-height:normal;font-family:Menlo,'DejaVu Sans Mono',consolas,'Courier New',monospace\"><span style=\"color: #7fbfbf; text-decoration-color: #7fbfbf\">[03/29/25 01:10:12] </span><span style=\"color: #d7af00; text-decoration-color: #d7af00; font-weight: bold\">WARNING </span> The `save_format` argument is deprecated in Keras <span style=\"color: #008080; text-decoration-color: #008080; font-weight: bold\">3</span>. We recommend     <a href=\"file:///home/ec2-user/anaconda3/envs/pytorch_p310/lib/python3.10/site-packages/keras/src/saving/saving_api.py\" target=\"_blank\"><span style=\"color: #7f7f7f; text-decoration-color: #7f7f7f\">saving_api.py</span></a><span style=\"color: #7f7f7f; text-decoration-color: #7f7f7f\">:</span><a href=\"file:///home/ec2-user/anaconda3/envs/pytorch_p310/lib/python3.10/site-packages/keras/src/saving/saving_api.py#62\" target=\"_blank\"><span style=\"color: #7f7f7f; text-decoration-color: #7f7f7f\">62</span></a>\n",
       "<span style=\"color: #7fbfbf; text-decoration-color: #7fbfbf\">                    </span>         removing this argument as it can be inferred from the file path.      <span style=\"color: #7f7f7f; text-decoration-color: #7f7f7f\">                </span>\n",
       "<span style=\"color: #7fbfbf; text-decoration-color: #7fbfbf\">                    </span>         Received: <span style=\"color: #d7af00; text-decoration-color: #d7af00\">save_format</span>=<span style=\"color: #e100e1; text-decoration-color: #e100e1\">h5</span>                                              <span style=\"color: #7f7f7f; text-decoration-color: #7f7f7f\">                </span>\n",
       "</pre>\n"
      ],
      "text/plain": [
       "\u001b[2;36m[03/29/25 01:10:12]\u001b[0m\u001b[2;36m \u001b[0m\u001b[1;38;2;215;175;0mWARNING \u001b[0m The `save_format` argument is deprecated in Keras \u001b[1;36m3\u001b[0m. We recommend     \u001b]8;id=255392;file:///home/ec2-user/anaconda3/envs/pytorch_p310/lib/python3.10/site-packages/keras/src/saving/saving_api.py\u001b\\\u001b[2msaving_api.py\u001b[0m\u001b]8;;\u001b\\\u001b[2m:\u001b[0m\u001b]8;id=193720;file:///home/ec2-user/anaconda3/envs/pytorch_p310/lib/python3.10/site-packages/keras/src/saving/saving_api.py#62\u001b\\\u001b[2m62\u001b[0m\u001b]8;;\u001b\\\n",
       "\u001b[2;36m                    \u001b[0m         removing this argument as it can be inferred from the file path.      \u001b[2m                \u001b[0m\n",
       "\u001b[2;36m                    \u001b[0m         Received: \u001b[38;2;215;175;0msave_format\u001b[0m=\u001b[38;2;225;0;225mh5\u001b[0m                                              \u001b[2m                \u001b[0m\n"
      ]
     },
     "metadata": {},
     "output_type": "display_data"
    },
    {
     "data": {
      "text/html": [
       "<pre style=\"white-space:pre;overflow-x:auto;line-height:normal;font-family:Menlo,'DejaVu Sans Mono',consolas,'Courier New',monospace\"><span style=\"color: #7fbfbf; text-decoration-color: #7fbfbf\">                    </span><span style=\"color: #d7af00; text-decoration-color: #d7af00; font-weight: bold\">WARNING </span> You are saving your model as an HDF5 file via `<span style=\"color: #e100e1; text-decoration-color: #e100e1; font-weight: bold\">model.save</span><span style=\"font-weight: bold\">()</span>` or       <a href=\"file:///home/ec2-user/anaconda3/envs/pytorch_p310/lib/python3.10/site-packages/keras/src/saving/saving_api.py\" target=\"_blank\"><span style=\"color: #7f7f7f; text-decoration-color: #7f7f7f\">saving_api.py</span></a><span style=\"color: #7f7f7f; text-decoration-color: #7f7f7f\">:</span><a href=\"file:///home/ec2-user/anaconda3/envs/pytorch_p310/lib/python3.10/site-packages/keras/src/saving/saving_api.py#83\" target=\"_blank\"><span style=\"color: #7f7f7f; text-decoration-color: #7f7f7f\">83</span></a>\n",
       "<span style=\"color: #7fbfbf; text-decoration-color: #7fbfbf\">                    </span>         `<span style=\"color: #e100e1; text-decoration-color: #e100e1; font-weight: bold\">keras.saving.save_model</span><span style=\"font-weight: bold\">(</span>model<span style=\"font-weight: bold\">)</span>`. This file format is considered      <span style=\"color: #7f7f7f; text-decoration-color: #7f7f7f\">                </span>\n",
       "<span style=\"color: #7fbfbf; text-decoration-color: #7fbfbf\">                    </span>         legacy. We recommend using instead the native Keras format, e.g.      <span style=\"color: #7f7f7f; text-decoration-color: #7f7f7f\">                </span>\n",
       "<span style=\"color: #7fbfbf; text-decoration-color: #7fbfbf\">                    </span>         `<span style=\"color: #e100e1; text-decoration-color: #e100e1; font-weight: bold\">model.save</span><span style=\"font-weight: bold\">(</span><span style=\"color: #008700; text-decoration-color: #008700\">'my_model.keras'</span><span style=\"font-weight: bold\">)</span>` or `<span style=\"color: #e100e1; text-decoration-color: #e100e1; font-weight: bold\">keras.saving.save_model</span><span style=\"font-weight: bold\">(</span>model,     <span style=\"color: #7f7f7f; text-decoration-color: #7f7f7f\">                </span>\n",
       "<span style=\"color: #7fbfbf; text-decoration-color: #7fbfbf\">                    </span>         <span style=\"color: #008700; text-decoration-color: #008700\">'my_model.keras'</span><span style=\"font-weight: bold\">)</span>`.                                                   <span style=\"color: #7f7f7f; text-decoration-color: #7f7f7f\">                </span>\n",
       "</pre>\n"
      ],
      "text/plain": [
       "\u001b[2;36m                   \u001b[0m\u001b[2;36m \u001b[0m\u001b[1;38;2;215;175;0mWARNING \u001b[0m You are saving your model as an HDF5 file via `\u001b[1;38;2;225;0;225mmodel.save\u001b[0m\u001b[1m(\u001b[0m\u001b[1m)\u001b[0m` or       \u001b]8;id=112134;file:///home/ec2-user/anaconda3/envs/pytorch_p310/lib/python3.10/site-packages/keras/src/saving/saving_api.py\u001b\\\u001b[2msaving_api.py\u001b[0m\u001b]8;;\u001b\\\u001b[2m:\u001b[0m\u001b]8;id=192048;file:///home/ec2-user/anaconda3/envs/pytorch_p310/lib/python3.10/site-packages/keras/src/saving/saving_api.py#83\u001b\\\u001b[2m83\u001b[0m\u001b]8;;\u001b\\\n",
       "\u001b[2;36m                    \u001b[0m         `\u001b[1;38;2;225;0;225mkeras.saving.save_model\u001b[0m\u001b[1m(\u001b[0mmodel\u001b[1m)\u001b[0m`. This file format is considered      \u001b[2m                \u001b[0m\n",
       "\u001b[2;36m                    \u001b[0m         legacy. We recommend using instead the native Keras format, e.g.      \u001b[2m                \u001b[0m\n",
       "\u001b[2;36m                    \u001b[0m         `\u001b[1;38;2;225;0;225mmodel.save\u001b[0m\u001b[1m(\u001b[0m\u001b[38;2;0;135;0m'my_model.keras'\u001b[0m\u001b[1m)\u001b[0m` or `\u001b[1;38;2;225;0;225mkeras.saving.save_model\u001b[0m\u001b[1m(\u001b[0mmodel,     \u001b[2m                \u001b[0m\n",
       "\u001b[2;36m                    \u001b[0m         \u001b[38;2;0;135;0m'my_model.keras'\u001b[0m\u001b[1m)\u001b[0m`.                                                   \u001b[2m                \u001b[0m\n"
      ]
     },
     "metadata": {},
     "output_type": "display_data"
    },
    {
     "name": "stdout",
     "output_type": "stream",
     "text": [
      "Model training completed and saved successfully.\n"
     ]
    }
   ],
   "source": [
    "model.save(\"document_classifier.keras\", save_format=\"keras\")\n",
    "model.save(\"document_classifier.h5\", save_format=\"h5\")\n",
    "print(\"Model training completed and saved successfully.\")"
   ]
  },
  {
   "cell_type": "code",
   "execution_count": 23,
   "id": "95f8b0be-0b87-409e-bbde-b6f825255bf4",
   "metadata": {},
   "outputs": [],
   "source": [
    "s3_key_keras = \"document_classifier.keras\"\n",
    "s3_key_h5 = \"document_classifier.h5\"\n",
    "s3.upload_file(\"document_classifier.h5\", s3_bucket, s3_key_keras)\n",
    "s3.upload_file(\"document_classifier.keras\", s3_bucket, s3_key_h5)"
   ]
  },
  {
   "cell_type": "code",
   "execution_count": 17,
   "id": "64344af9-dc32-40e6-be65-27d7a4f8820b",
   "metadata": {},
   "outputs": [
    {
     "name": "stdout",
     "output_type": "stream",
     "text": [
      "[NbConvertApp] Converting notebook ml_id_classifier_tf.ipynb to script\n",
      "[NbConvertApp] Writing 3819 bytes to ml_id_classifier_tf.py\n"
     ]
    }
   ],
   "source": [
    "!jupyter nbconvert --to script ml_id_classifier_tf.ipynb"
   ]
  },
  {
   "cell_type": "code",
   "execution_count": null,
   "id": "a99e7af3-7664-486a-acd7-7bcec797e6c0",
   "metadata": {},
   "outputs": [],
   "source": []
  }
 ],
 "metadata": {
  "kernelspec": {
   "display_name": "conda_pytorch_p310",
   "language": "python",
   "name": "conda_pytorch_p310"
  },
  "language_info": {
   "codemirror_mode": {
    "name": "ipython",
    "version": 3
   },
   "file_extension": ".py",
   "mimetype": "text/x-python",
   "name": "python",
   "nbconvert_exporter": "python",
   "pygments_lexer": "ipython3",
   "version": "3.10.14"
  }
 },
 "nbformat": 4,
 "nbformat_minor": 5
}
